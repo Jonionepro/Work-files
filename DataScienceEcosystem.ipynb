{
 "cells": [
  {
   "cell_type": "markdown",
   "id": "8c7f1dfc-57e4-4147-9a53-48cf45db7a34",
   "metadata": {},
   "source": [
    "<h1>Data Science Tools and Ecosystem"
   ]
  },
  {
   "cell_type": "markdown",
   "id": "8aea0fc6-5175-4054-bfe3-cb6ca255a8df",
   "metadata": {},
   "source": [
    "In this notebook, Data Science Tools and Ecosystem are summarized."
   ]
  },
  {
   "cell_type": "markdown",
   "id": "13380b31-ea53-42b5-8c13-b71efaed4773",
   "metadata": {
    "tags": []
   },
   "source": [
    "**Objectives:**  \n",
    "- List popular languages for Data Science.  \n",
    "- List commonly used libraries used by Data Scientists.  \n",
    "- List Data science tools.  \n",
    "- Compute some arithmrtic expressions in Python."
   ]
  },
  {
   "cell_type": "markdown",
   "id": "b5f0fb64-a05b-44cd-b3ce-5c87f3f7ca52",
   "metadata": {},
   "source": [
    "Some of the popular languages that Data Scientists use are: Python, R, SQL, Julia, MATLAB, Scala"
   ]
  },
  {
   "cell_type": "markdown",
   "id": "adf3b190-ce71-4f2a-aa51-83a91e6a7a26",
   "metadata": {},
   "source": [
    "Some of the commonly used libraries used by Data Scientists include: NumPy, pandas, scikit-learn, TensorFlow, Keras, Matplotlib, seaborn, PyTorch."
   ]
  },
  {
   "cell_type": "markdown",
   "id": "8e67b616-2c7f-410d-9459-05236877fddb",
   "metadata": {},
   "source": [
    "<H4>Data Science Tools  \n",
    "\n",
    "Jupyter Notebook  \n",
    "RStudio  \n",
    "Anaconda  \n"
   ]
  },
  {
   "cell_type": "markdown",
   "id": "c5c2e0b1-8372-4593-8249-a68fbaecd739",
   "metadata": {},
   "source": [
    "Below are a few examples of evaluating arithmetic expressions in Python"
   ]
  },
  {
   "cell_type": "code",
   "execution_count": 14,
   "id": "6fb9e1bd-0227-4a5b-aae8-19665c78da05",
   "metadata": {
    "tags": []
   },
   "outputs": [
    {
     "data": {
      "text/plain": [
       "17"
      ]
     },
     "execution_count": 14,
     "metadata": {},
     "output_type": "execute_result"
    }
   ],
   "source": [
    "\"This a simple arithmetic expression to mutiply then add integers\"\n",
    "(3*4)+5"
   ]
  },
  {
   "cell_type": "code",
   "execution_count": 15,
   "id": "4e6fdc8e-6c76-4ea5-ae64-125397ae911c",
   "metadata": {
    "tags": []
   },
   "outputs": [
    {
     "data": {
      "text/plain": [
       "3.3333333333333335"
      ]
     },
     "execution_count": 15,
     "metadata": {},
     "output_type": "execute_result"
    }
   ],
   "source": [
    "\"This will convert 200 minutes to hours by diving by 60\"\n",
    "200/60"
   ]
  },
  {
   "cell_type": "markdown",
   "id": "4ae868c6-63f8-4144-a49d-893276c53bc9",
   "metadata": {
    "tags": []
   },
   "source": [
    "## Author  \n",
    "Jonathan Ikhelegbe-Ojo"
   ]
  },
  {
   "cell_type": "code",
   "execution_count": null,
   "id": "01dabc2d-b861-4c99-8642-cf9d63fca44d",
   "metadata": {},
   "outputs": [],
   "source": []
  }
 ],
 "metadata": {
  "kernelspec": {
   "display_name": "Python",
   "language": "python",
   "name": "conda-env-python-py"
  },
  "language_info": {
   "codemirror_mode": {
    "name": "ipython",
    "version": 3
   },
   "file_extension": ".py",
   "mimetype": "text/x-python",
   "name": "python",
   "nbconvert_exporter": "python",
   "pygments_lexer": "ipython3",
   "version": "3.7.12"
  }
 },
 "nbformat": 4,
 "nbformat_minor": 5
}
